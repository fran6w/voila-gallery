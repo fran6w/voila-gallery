{
 "cells": [
  {
   "cell_type": "markdown",
   "metadata": {},
   "source": [
    "# STL file display\n",
    "\n",
    "This notebook shows how to display STL files used for 3D printing in a notebook.\n",
    "\n",
    "Displaying relies on the *numpy-stl* and the *ipyvolume* libraries.\n",
    "\n",
    "Upload a STL **ascii** file (*binary files not supported*)"
   ]
  },
  {
   "cell_type": "code",
   "execution_count": 1,
   "metadata": {},
   "outputs": [],
   "source": [
    "# imports\n",
    "from io import StringIO\n",
    "\n",
    "from stl import mesh\n",
    "from traitlets import dlink\n",
    "import ipyvolume as ipv\n",
    "import ipywidgets as widgets\n",
    "from ipyupload import FileUpload\n",
    "\n",
    "class STL_Displayer:\n",
    "    \n",
    "    def __init__(self):\n",
    "        # widgets creation\n",
    "        self._file_upload = FileUpload(accept='*.stl')\n",
    "        self._file_name = widgets.Text()\n",
    "        self._wireframe_flag = widgets.Checkbox(\n",
    "                    value=False,\n",
    "                    description='Wireframe',\n",
    "                    disabled=False)\n",
    "        self._color_picker = widgets.ColorPicker(\n",
    "                    concise=False,\n",
    "                    description='Pick a color',\n",
    "                    value='white',\n",
    "                    disabled=False)\n",
    "        self.ui = widgets.VBox([])\n",
    "        self._update_ui()\n",
    "\n",
    "        # links between widgets\n",
    "        dlink((self._file_upload, 'value'), (self._file_name, 'value'), self._get_filename)\n",
    "        self._color_picker.observe(self._show_stl, 'value')\n",
    "        self._wireframe_flag.observe(self._show_stl, 'value')\n",
    "        self._file_upload.observe(self._show_stl, 'value')\n",
    "    \n",
    "    # display STL file\n",
    "    def _show_stl(self, *args):\n",
    "        # bridge: FileUpload - stl.mesh\n",
    "        content = next(iter(self._file_upload.value.values()))['content']\n",
    "        io = StringIO()\n",
    "        try:\n",
    "            io.write(content.decode('utf-8'))\n",
    "            io.seek(0)\n",
    "            name, data = mesh.Mesh.load(io)\n",
    "            m = mesh.Mesh(data, True, name=name, speedups=True)\n",
    "        except:\n",
    "            self._file_name.value = 'Provided STL file not supported'\n",
    "            m = None\n",
    "            \n",
    "        mymesh = None\n",
    "\n",
    "        if m is not None:\n",
    "            ipv.figure()\n",
    "            ipv.style.use('minimal')\n",
    "            ipv.plot_mesh(m.x, m.z, m.y, color=self._color_picker.value, wireframe=self._wireframe_flag.value)\n",
    "            mymesh = ipv.gcc()\n",
    "            \n",
    "        self._update_ui(mymesh)\n",
    "\n",
    "    def _update_ui(self, mymesh=None):\n",
    "        if mymesh is None:\n",
    "            self.ui.children = (widgets.HBox([self._file_upload, self._file_name]), self._wireframe_flag, self._color_picker)\n",
    "        else:\n",
    "            self.ui.children = (widgets.HBox([self._file_upload, self._file_name]), self._wireframe_flag, self._color_picker, mymesh)\n",
    "\n",
    "    # get filename from FileUpload dict\n",
    "    def _get_filename(self, file_upload):\n",
    "        if len(file_upload.values()) == 0:\n",
    "            return ''\n",
    "        return next(iter(file_upload.values()))['metadata']['name']"
   ]
  },
  {
   "cell_type": "code",
   "execution_count": 2,
   "metadata": {},
   "outputs": [
    {
     "data": {
      "application/vnd.jupyter.widget-view+json": {
       "model_id": "126087dce4ee4d928c70edd62b973e46",
       "version_major": 2,
       "version_minor": 0
      },
      "text/plain": [
       "VBox(children=(HBox(children=(FileUpload(accept='*.stl'), Text(value=''))), Checkbox(value=False, description=…"
      ]
     },
     "metadata": {},
     "output_type": "display_data"
    }
   ],
   "source": [
    "s = STL_Displayer()\n",
    "s.ui"
   ]
  }
 ],
 "metadata": {
  "kernelspec": {
   "display_name": "Python 3",
   "language": "python",
   "name": "python3"
  },
  "language_info": {
   "codemirror_mode": {
    "name": "ipython",
    "version": 3
   },
   "file_extension": ".py",
   "mimetype": "text/x-python",
   "name": "python",
   "nbconvert_exporter": "python",
   "pygments_lexer": "ipython3",
   "version": "3.6.4"
  }
 },
 "nbformat": 4,
 "nbformat_minor": 2
}
